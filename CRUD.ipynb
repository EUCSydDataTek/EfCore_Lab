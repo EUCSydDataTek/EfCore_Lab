{
 "cells": [
  {
   "attachments": {},
   "cell_type": "markdown",
   "metadata": {
    "dotnet_interactive": {
     "language": "csharp"
    },
    "polyglot_notebook": {
     "kernelName": "csharp"
    }
   },
   "source": [
    "# CRUD\n",
    "\n",
    "## Inhold\n",
    "1. __Start__\n",
    "2. __Hent Fra Database__\n",
    "    - Simple Queries\n",
    "    - Data tranformation\n",
    "    - Eager loading\n",
    "3. __Oprettelse__\n",
    "    - Insert af en entry.\n",
    "    - Nested Insert.\n",
    "    - Insert af flere entries.\n",
    "4. __Opdatering af data__\n",
    "    - Opdatering af en entry.\n",
    "    - Opdatering med brug af ChangeTracker.\n",
    "    - Opdatering af en detached entry.\n",
    "5. __Fjern en entity__\n",
    "6. __Extra__\n",
    "    - Compiled queries\n",
    "\n",
    "----"
   ]
  },
  {
   "attachments": {},
   "cell_type": "markdown",
   "metadata": {
    "dotnet_interactive": {
     "language": "csharp"
    },
    "polyglot_notebook": {
     "kernelName": "csharp"
    }
   },
   "source": [
    "## 1. Start\n",
    "for at bruge denne notebook skal du have powershell core installeret.\n",
    "\n",
    "Winget:"
   ]
  },
  {
   "cell_type": "code",
   "execution_count": null,
   "metadata": {
    "dotnet_interactive": {
     "language": "pwsh"
    },
    "polyglot_notebook": {
     "kernelName": "pwsh"
    },
    "vscode": {
     "languageId": "polyglot-notebook"
    }
   },
   "outputs": [],
   "source": [
    "# Out-file delen kan undværes hvis du copy paster den til din kommandopromt. da den spytter en masse ud i notedsbogen.\n",
    "winget install Microsoft.PowerShell \n",
    "| Out-File -FilePath WingetOutput.txt"
   ]
  },
  {
   "attachments": {},
   "cell_type": "markdown",
   "metadata": {
    "dotnet_interactive": {
     "language": "csharp"
    },
    "polyglot_notebook": {
     "kernelName": "csharp"
    }
   },
   "source": [
    "Kør koden nedenunder før du kører eksemplerne."
   ]
  },
  {
   "cell_type": "code",
   "execution_count": 3,
   "metadata": {
    "dotnet_interactive": {
     "language": "csharp"
    },
    "polyglot_notebook": {
     "kernelName": "csharp"
    },
    "vscode": {
     "languageId": "polyglot-notebook"
    }
   },
   "outputs": [
    {
     "name": "stdout",
     "output_type": "stream",
     "text": [
      "Building Project\n",
      "Project build completed\n"
     ]
    },
    {
     "data": {
      "text/html": [
       "<div><div></div><div></div><div><strong>Installed Packages</strong><ul><li><span>Bogus, 34.0.2</span></li><li><span>Microsoft.EntityFrameworkCore, 7.0.3</span></li><li><span>Microsoft.EntityFrameworkCore.Sqlite, 7.0.3</span></li><li><span>Microsoft.EntityFrameworkCore.SqlServer, 7.0.3</span></li></ul></div></div>"
      ]
     },
     "metadata": {},
     "output_type": "display_data"
    },
    {
     "ename": "Error",
     "evalue": "(2,1): error CS0006: Metadata file 'DataLayer\\bin\\Debug\\net7.0\\DataLayer.dll' could not be found\n(7,7): error CS0246: The type or namespace name 'DataLayer' could not be found (are you missing a using directive or an assembly reference?)\n(8,7): error CS0246: The type or namespace name 'DataLayer' could not be found (are you missing a using directive or an assembly reference?)\n(11,25): error CS0246: The type or namespace name 'BlogDbContext' could not be found (are you missing a using directive or an assembly reference?)\n(27,31): error CS1061: 'DbContextOptions<BlogDbContext>' does not contain a definition for 'CreateRandomUsers' and no accessible extension method 'CreateRandomUsers' accepting a first argument of type 'DbContextOptions<BlogDbContext>' could be found (are you missing a using directive or an assembly reference?)\n(28,31): error CS1061: 'DbContextOptions<BlogDbContext>' does not contain a definition for 'CreateRandomBlogs' and no accessible extension method 'CreateRandomBlogs' accepting a first argument of type 'DbContextOptions<BlogDbContext>' could be found (are you missing a using directive or an assembly reference?)\n(16,21): error CS0246: The type or namespace name 'BlogDbContext' could not be found (are you missing a using directive or an assembly reference?)\n(29,19): error CS1061: 'DbContextOptions<BlogDbContext>' does not contain a definition for 'CreateRandomPosts' and no accessible extension method 'CreateRandomPosts' accepting a first argument of type 'DbContextOptions<BlogDbContext>' could be found (are you missing a using directive or an assembly reference?)",
     "output_type": "error",
     "traceback": [
      "(2,1): error CS0006: Metadata file 'DataLayer\\bin\\Debug\\net7.0\\DataLayer.dll' could not be found\n",
      "(7,7): error CS0246: The type or namespace name 'DataLayer' could not be found (are you missing a using directive or an assembly reference?)\n",
      "(8,7): error CS0246: The type or namespace name 'DataLayer' could not be found (are you missing a using directive or an assembly reference?)\n",
      "(11,25): error CS0246: The type or namespace name 'BlogDbContext' could not be found (are you missing a using directive or an assembly reference?)\n",
      "(27,31): error CS1061: 'DbContextOptions<BlogDbContext>' does not contain a definition for 'CreateRandomUsers' and no accessible extension method 'CreateRandomUsers' accepting a first argument of type 'DbContextOptions<BlogDbContext>' could be found (are you missing a using directive or an assembly reference?)\n",
      "(28,31): error CS1061: 'DbContextOptions<BlogDbContext>' does not contain a definition for 'CreateRandomBlogs' and no accessible extension method 'CreateRandomBlogs' accepting a first argument of type 'DbContextOptions<BlogDbContext>' could be found (are you missing a using directive or an assembly reference?)\n",
      "(16,21): error CS0246: The type or namespace name 'BlogDbContext' could not be found (are you missing a using directive or an assembly reference?)\n",
      "(29,19): error CS1061: 'DbContextOptions<BlogDbContext>' does not contain a definition for 'CreateRandomPosts' and no accessible extension method 'CreateRandomPosts' accepting a first argument of type 'DbContextOptions<BlogDbContext>' could be found (are you missing a using directive or an assembly reference?)"
     ]
    }
   ],
   "source": [
    "\n",
    "#!pwsh \n",
    "# Powershell kode\n",
    "Write-Host \"Building Project\"\n",
    "dotnet build Efcore.sln | Out-File -FilePath BuildOutput.txt\n",
    "Write-Host \"Project build completed\"\n",
    "\n",
    "#!C#\n",
    "// Nuget Import \n",
    "#r \"nuget: Bogus\"\n",
    "#r \"nuget: Microsoft.EntityFrameworkCore\"\n",
    "#r \"nuget: Microsoft.EntityFrameworkCore.SqlServer\"\n",
    "#r \"nuget: Microsoft.EntityFrameworkCore.Sqlite\"\n",
    "#r \"Datalayer/bin/Debug/net7.0/DataLayer.dll\"\n",
    "\n",
    "// Usings\n",
    "using Microsoft.EntityFrameworkCore;\n",
    "using System.Diagnostics;\n",
    "using DataLayer;\n",
    "using DataLayer.Entities;\n",
    "\n",
    "// Dbcontext instillinger.\n",
    "DbContextOptionsBuilder<BlogDbContext> DbOptions = new();\n",
    "DbOptions.UseSqlite(\"Data Source=mydb.db;\",o => o.MinBatchSize(1).MaxBatchSize(100));\n",
    "//DbOptions.UseSqlServer(\"<ConnectionString Here>\"); // Du kan bruge en normal database hvis du vil.\n",
    "\n",
    "// Seeding af tabeller\n",
    "using (var db = new BlogDbContext(DbOptions.Options))\n",
    "{\n",
    "    Console.WriteLine(\"Removing old database..\");\n",
    "    db.Database.EnsureDeleted();\n",
    "    Console.WriteLine(\"Creating new database..\");\n",
    "    db.Database.EnsureCreated();\n",
    "}\n",
    "\n",
    "// seeding med instillinger\n",
    "// Alt der bliver oprettet er tilfældige navne og data.\n",
    "Console.WriteLine(\"Seeding Database.\");\n",
    "var users = DbOptions.Options.CreateRandomUsers(10); // der vil blive oprettet 10 brugere\n",
    "var blogs = DbOptions.Options.CreateRandomBlogs(users); // hver bruger ejer en blog\n",
    "DbOptions.Options.CreateRandomPosts(40,blogs,users); // 40 post over alle blogs og brugere\n",
    "Console.WriteLine(\"Done.\");\n",
    "\n",
    "// Enable Sensitive Data Logging\n",
    "DbOptions\n",
    "    .EnableSensitiveDataLogging()\n",
    "    .LogTo(a => a.Display(),Microsoft.Extensions.Logging.LogLevel.Information);"
   ]
  },
  {
   "attachments": {},
   "cell_type": "markdown",
   "metadata": {
    "dotnet_interactive": {
     "language": "csharp"
    },
    "polyglot_notebook": {
     "kernelName": "csharp"
    }
   },
   "source": [
    "-----\n",
    "# 2. Hent fra database\n",
    "## Simple queries\n",
    "\n",
    "For at Filtrere data kan man bruge ``Where()`` til at søge efter en condition og derefter bruge ``Tolist()`` for at eksekvere mod databasen.\n",
    "\n",
    "> Note. Det er meningen at Posts og owner er Null.\n",
    "> Vi kommer til det Senere i eksemplerne."
   ]
  },
  {
   "cell_type": "code",
   "execution_count": 2,
   "metadata": {
    "dotnet_interactive": {
     "language": "csharp"
    },
    "polyglot_notebook": {
     "kernelName": "csharp"
    },
    "vscode": {
     "languageId": "polyglot-notebook"
    }
   },
   "outputs": [
    {
     "data": {
      "text/plain": [
       "warn: 06-03-2023 09:48:53.115 CoreEventId.SensitiveDataLoggingEnabledWarning[10400] (Microsoft.EntityFrameworkCore.Infrastructure) \r\n",
       "      Sensitive data logging is enabled. Log entries and exception messages may include sensitive application data; this mode should only be enabled during development."
      ]
     },
     "metadata": {},
     "output_type": "display_data"
    },
    {
     "data": {
      "text/plain": [
       "info: 06-03-2023 09:48:53.317 RelationalEventId.CommandExecuted[20101] (Microsoft.EntityFrameworkCore.Database.Command) \r\n",
       "      Executed DbCommand (2ms) [Parameters=[], CommandType='Text', CommandTimeout='30']\r\n",
       "      SELECT \"b\".\"BlogId\", \"b\".\"BlogName\", \"b\".\"UserId\"\r\n",
       "      FROM \"Blogs\" AS \"b\"\r\n",
       "      WHERE 'et' = '' OR instr(lower(\"b\".\"BlogName\"), 'et') > 0"
      ]
     },
     "metadata": {},
     "output_type": "display_data"
    },
    {
     "data": {
      "text/html": [
       "<table><thead><tr><th><i>index</i></th><th>value</th></tr></thead><tbody><tr><td>0</td><td><details class=\"dni-treeview\"><summary><span class=\"dni-code-hint\"><code>DataLayer.Entities.Blog</code></span></summary><div><table><thead><tr></tr></thead><tbody><tr><td>BlogId</td><td><div class=\"dni-plaintext\"><pre>4</pre></div></td></tr><tr><td>UserId</td><td><div class=\"dni-plaintext\"><pre>4</pre></div></td></tr><tr><td>BlogName</td><td>Omnis harum qui quasi sapiente aut sunt et.</td></tr><tr><td>Posts</td><td><div class=\"dni-plaintext\"><pre>&lt;null&gt;</pre></div></td></tr><tr><td>Owner</td><td><div class=\"dni-plaintext\"><pre>&lt;null&gt;</pre></div></td></tr></tbody></table></div></details></td></tr><tr><td>1</td><td><details class=\"dni-treeview\"><summary><span class=\"dni-code-hint\"><code>DataLayer.Entities.Blog</code></span></summary><div><table><thead><tr></tr></thead><tbody><tr><td>BlogId</td><td><div class=\"dni-plaintext\"><pre>5</pre></div></td></tr><tr><td>UserId</td><td><div class=\"dni-plaintext\"><pre>5</pre></div></td></tr><tr><td>BlogName</td><td>Delectus qui laboriosam necessitatibus et enim modi quia vitae labore.</td></tr><tr><td>Posts</td><td><div class=\"dni-plaintext\"><pre>&lt;null&gt;</pre></div></td></tr><tr><td>Owner</td><td><div class=\"dni-plaintext\"><pre>&lt;null&gt;</pre></div></td></tr></tbody></table></div></details></td></tr><tr><td>2</td><td><details class=\"dni-treeview\"><summary><span class=\"dni-code-hint\"><code>DataLayer.Entities.Blog</code></span></summary><div><table><thead><tr></tr></thead><tbody><tr><td>BlogId</td><td><div class=\"dni-plaintext\"><pre>8</pre></div></td></tr><tr><td>UserId</td><td><div class=\"dni-plaintext\"><pre>8</pre></div></td></tr><tr><td>BlogName</td><td>Et vero cumque harum maxime.</td></tr><tr><td>Posts</td><td><div class=\"dni-plaintext\"><pre>&lt;null&gt;</pre></div></td></tr><tr><td>Owner</td><td><div class=\"dni-plaintext\"><pre>&lt;null&gt;</pre></div></td></tr></tbody></table></div></details></td></tr><tr><td>3</td><td><details class=\"dni-treeview\"><summary><span class=\"dni-code-hint\"><code>DataLayer.Entities.Blog</code></span></summary><div><table><thead><tr></tr></thead><tbody><tr><td>BlogId</td><td><div class=\"dni-plaintext\"><pre>10</pre></div></td></tr><tr><td>UserId</td><td><div class=\"dni-plaintext\"><pre>10</pre></div></td></tr><tr><td>BlogName</td><td>Facere praesentium accusantium saepe laboriosam laboriosam fugit suscipit et molestias.</td></tr><tr><td>Posts</td><td><div class=\"dni-plaintext\"><pre>&lt;null&gt;</pre></div></td></tr><tr><td>Owner</td><td><div class=\"dni-plaintext\"><pre>&lt;null&gt;</pre></div></td></tr></tbody></table></div></details></td></tr></tbody></table><style>\r\n",
       ".dni-code-hint {\r\n",
       "    font-style: italic;\r\n",
       "    overflow: hidden;\r\n",
       "    white-space: nowrap;\r\n",
       "}\r\n",
       ".dni-treeview {\r\n",
       "    white-space: nowrap;\r\n",
       "}\r\n",
       ".dni-treeview td {\r\n",
       "    vertical-align: top;\r\n",
       "    text-align: start;\r\n",
       "}\r\n",
       "details.dni-treeview {\r\n",
       "    padding-left: 1em;\r\n",
       "}\r\n",
       "table td {\r\n",
       "    text-align: start;\r\n",
       "}\r\n",
       "table tr { \r\n",
       "    vertical-align: top; \r\n",
       "    margin: 0em 0px;\r\n",
       "}\r\n",
       "table tr td pre \r\n",
       "{ \r\n",
       "    vertical-align: top !important; \r\n",
       "    margin: 0em 0px !important;\r\n",
       "} \r\n",
       "table th {\r\n",
       "    text-align: start;\r\n",
       "}\r\n",
       "</style>"
      ]
     },
     "metadata": {},
     "output_type": "display_data"
    }
   ],
   "source": [
    "using (var db = new BlogDbContext(DbOptions.Options))\n",
    "{\n",
    "    var Blogs = db.Blogs\n",
    "                    .Where(b => b.BlogName.ToLower().Contains(\"et\"))\n",
    "                    .ToList();\n",
    "                    \n",
    "    Blogs.Display();\n",
    "}"
   ]
  },
  {
   "attachments": {},
   "cell_type": "markdown",
   "metadata": {
    "dotnet_interactive": {
     "language": "csharp"
    },
    "polyglot_notebook": {
     "kernelName": "csharp"
    }
   },
   "source": [
    "Her gør vi det samme bare med at vi henter posts med et specifikt Blogid."
   ]
  },
  {
   "cell_type": "code",
   "execution_count": null,
   "metadata": {
    "dotnet_interactive": {
     "language": "csharp"
    },
    "polyglot_notebook": {
     "kernelName": "csharp"
    },
    "vscode": {
     "languageId": "polyglot-notebook"
    }
   },
   "outputs": [],
   "source": [
    "using (var db = new BlogDbContext(DbOptions.Options))\n",
    "{\n",
    "    var Blogs = db.Posts\n",
    "                    .Where(b => b.BlogId == 2)\n",
    "                    .ToList();\n",
    "                    \n",
    "    Blogs.Display();\n",
    "}"
   ]
  },
  {
   "attachments": {},
   "cell_type": "markdown",
   "metadata": {
    "dotnet_interactive": {
     "language": "csharp"
    },
    "polyglot_notebook": {
     "kernelName": "csharp"
    }
   },
   "source": [
    "For at hente en Enkelt objekt kan man bruge ``FirstOrDefault()``"
   ]
  },
  {
   "cell_type": "code",
   "execution_count": null,
   "metadata": {
    "dotnet_interactive": {
     "language": "csharp"
    },
    "polyglot_notebook": {
     "kernelName": "csharp"
    },
    "vscode": {
     "languageId": "polyglot-notebook"
    }
   },
   "outputs": [],
   "source": [
    "using (var db = new BlogDbContext(DbOptions.Options))\n",
    "{\n",
    "    var post = db.Posts\n",
    "                    .Where(b => b.PostId == 3)\n",
    "                    .FirstOrDefault();\n",
    "                    \n",
    "    post.Display();\n",
    "}"
   ]
  },
  {
   "attachments": {},
   "cell_type": "markdown",
   "metadata": {
    "dotnet_interactive": {
     "language": "csharp"
    },
    "polyglot_notebook": {
     "kernelName": "csharp"
    }
   },
   "source": [
    "Eller hvis man bare vil have hvor mange posts der er i en specifik query kan man bruge ``Count()``"
   ]
  },
  {
   "cell_type": "code",
   "execution_count": null,
   "metadata": {
    "dotnet_interactive": {
     "language": "csharp"
    },
    "polyglot_notebook": {
     "kernelName": "csharp"
    },
    "vscode": {
     "languageId": "polyglot-notebook"
    }
   },
   "outputs": [],
   "source": [
    "using (var db = new BlogDbContext(DbOptions.Options))\n",
    "{\n",
    "    var BlogsCount = db.Posts\n",
    "                    .Where(b => b.BlogId == 1)\n",
    "                    .Count();\n",
    "                    \n",
    "    BlogsCount.Display();\n",
    "}"
   ]
  },
  {
   "attachments": {},
   "cell_type": "markdown",
   "metadata": {
    "dotnet_interactive": {
     "language": "csharp"
    },
    "polyglot_notebook": {
     "kernelName": "csharp"
    }
   },
   "source": [
    "## Data Transformering med queries\n",
    "\n",
    "Man hente data og tranformere til en anden klasse med ``Select()`` og så vil entity framework selv lave de nødvendige sql kommandoer.\n",
    "\n",
    "> Observer at entity framework selv laver inner joins for at få data"
   ]
  },
  {
   "cell_type": "code",
   "execution_count": null,
   "metadata": {
    "dotnet_interactive": {
     "language": "csharp"
    },
    "polyglot_notebook": {
     "kernelName": "csharp"
    },
    "vscode": {
     "languageId": "polyglot-notebook"
    }
   },
   "outputs": [],
   "source": [
    "using (var db = new BlogDbContext(DbOptions.Options))\n",
    "{\n",
    "    var Blogs = db.Posts\n",
    "                    .Where(p => p.BlogId == 1)\n",
    "                    .Select(p => new {\n",
    "                        Title = p.title,\n",
    "                        Description = p.desctription,\n",
    "                        UserName = p.User.UserName,\n",
    "                        BlogName = p.Blog.BlogName\n",
    "                    }).ToList();\n",
    "                    \n",
    "    Blogs.Display();\n",
    "}"
   ]
  },
  {
   "attachments": {},
   "cell_type": "markdown",
   "metadata": {
    "dotnet_interactive": {
     "language": "csharp"
    },
    "polyglot_notebook": {
     "kernelName": "csharp"
    }
   },
   "source": [
    "## Eager loading\n",
    "\n",
    "I den første demo var User og Blog Null.\n",
    "\n",
    "Det er fordi Entityframework kun henter fra den første entitet.\n"
   ]
  },
  {
   "cell_type": "code",
   "execution_count": null,
   "metadata": {
    "dotnet_interactive": {
     "language": "csharp"
    },
    "polyglot_notebook": {
     "kernelName": "csharp"
    },
    "vscode": {
     "languageId": "polyglot-notebook"
    }
   },
   "outputs": [],
   "source": [
    "using (var db = new BlogDbContext(DbOptions.Options))\n",
    "{\n",
    "    var BlogPost = db.Posts\n",
    "                    .Where(p => p.BlogId == 1)\n",
    "                    .FirstOrDefault();\n",
    "                    \n",
    "    $\"Title: {BlogPost?.title}\".Display();\n",
    "    $\"Desctription: {BlogPost?.desctription}\".Display();\n",
    "    $\"User: {BlogPost.User?.UserName}\".Display();\n",
    "    $\"BlogName: {BlogPost.Blog?.BlogName}\".Display();\n",
    "}"
   ]
  },
  {
   "attachments": {},
   "cell_type": "markdown",
   "metadata": {
    "dotnet_interactive": {
     "language": "csharp"
    },
    "polyglot_notebook": {
     "kernelName": "csharp"
    }
   },
   "source": [
    "Det kan løses ved at bruge Eager loading som vil tilføje entiteneten til query så den kommer med fra databasen ved at bruge ``Include()`` metoden."
   ]
  },
  {
   "cell_type": "code",
   "execution_count": 3,
   "metadata": {
    "dotnet_interactive": {
     "language": "csharp"
    },
    "polyglot_notebook": {
     "kernelName": "csharp"
    },
    "vscode": {
     "languageId": "polyglot-notebook"
    }
   },
   "outputs": [
    {
     "data": {
      "text/plain": [
       "info: 06-03-2023 09:49:45.216 RelationalEventId.CommandExecuted[20101] (Microsoft.EntityFrameworkCore.Database.Command) \r\n",
       "      Executed DbCommand (0ms) [Parameters=[], CommandType='Text', CommandTimeout='30']\r\n",
       "      SELECT \"p\".\"PostId\", \"p\".\"BlogId\", \"p\".\"UserId\", \"p\".\"desctription\", \"p\".\"title\", \"b\".\"BlogId\", \"b\".\"BlogName\", \"b\".\"UserId\", \"u\".\"UserId\", \"u\".\"Email\", \"u\".\"UserName\"\r\n",
       "      FROM \"Posts\" AS \"p\"\r\n",
       "      INNER JOIN \"Blogs\" AS \"b\" ON \"p\".\"BlogId\" = \"b\".\"BlogId\"\r\n",
       "      INNER JOIN \"Users\" AS \"u\" ON \"p\".\"UserId\" = \"u\".\"UserId\"\r\n",
       "      WHERE \"p\".\"BlogId\" = 1\r\n",
       "      LIMIT 1"
      ]
     },
     "metadata": {},
     "output_type": "display_data"
    },
    {
     "data": {
      "text/html": [
       "<details open=\"open\" class=\"dni-treeview\"><summary><span class=\"dni-code-hint\"><code>DataLayer.Entities.Post</code></span></summary><div><table><thead><tr></tr></thead><tbody><tr><td>PostId</td><td><div class=\"dni-plaintext\"><pre>8</pre></div></td></tr><tr><td>UserId</td><td><div class=\"dni-plaintext\"><pre>3</pre></div></td></tr><tr><td>BlogId</td><td><div class=\"dni-plaintext\"><pre>1</pre></div></td></tr><tr><td>title</td><td>heard about this on original pilipino music radio, decided to give it a try.</td></tr><tr><td>desctription</td><td>ipsam</td></tr><tr><td>User</td><td><details class=\"dni-treeview\"><summary><span class=\"dni-code-hint\"><code>DataLayer.Entities.User</code></span></summary><div><table><thead><tr></tr></thead><tbody><tr><td>UserId</td><td><div class=\"dni-plaintext\"><pre>3</pre></div></td></tr><tr><td>UserName</td><td>Luk.Newton90</td></tr><tr><td>Email</td><td>Luk_Newton76@hotmail.com</td></tr><tr><td>OwnerOf</td><td><div class=\"dni-plaintext\"><pre>&lt;null&gt;</pre></div></td></tr></tbody></table></div></details></td></tr><tr><td>Blog</td><td><details class=\"dni-treeview\"><summary><span class=\"dni-code-hint\"><code>DataLayer.Entities.Blog</code></span></summary><div><table><thead><tr></tr></thead><tbody><tr><td>BlogId</td><td><div class=\"dni-plaintext\"><pre>1</pre></div></td></tr><tr><td>UserId</td><td><div class=\"dni-plaintext\"><pre>1</pre></div></td></tr><tr><td>BlogName</td><td>Dolore labore magnam cupiditate facilis nisi distinctio omnis veritatis perspiciatis.</td></tr><tr><td>Posts</td><td><table><thead><tr><th><i>index</i></th><th>value</th></tr></thead><tbody><tr><td>0</td><td><details class=\"dni-treeview\"><summary><span class=\"dni-code-hint\"><code>DataLayer.Entities.Post</code></span></summary><div><table><thead><tr></tr></thead><tbody><tr><td>PostId</td><td><div class=\"dni-plaintext\"><pre>8</pre></div></td></tr><tr><td>UserId</td><td><div class=\"dni-plaintext\"><pre>3</pre></div></td></tr><tr><td>BlogId</td><td><div class=\"dni-plaintext\"><pre>1</pre></div></td></tr><tr><td>title</td><td>heard about this on original pilipino music radio, decided to give it a try.</td></tr><tr><td>desctription</td><td>ipsam</td></tr><tr><td>User</td><td><details class=\"dni-treeview\"><summary><span class=\"dni-code-hint\"><code>DataLayer.Entities.User</code></span></summary><div><table><thead><tr></tr></thead><tbody><tr><td>UserId</td><td><div class=\"dni-plaintext\"><pre>3</pre></div></td></tr><tr><td>UserName</td><td>Luk.Newton90</td></tr><tr><td>Email</td><td>Luk_Newton76@hotmail.com</td></tr><tr><td>OwnerOf</td><td><div class=\"dni-plaintext\"><pre>&lt;null&gt;</pre></div></td></tr></tbody></table></div></details></td></tr><tr><td>Blog</td><td><details class=\"dni-treeview\"><summary><span class=\"dni-code-hint\"><code>DataLayer.Entities.Blog</code></span></summary><div><table><thead><tr></tr></thead><tbody><tr><td>BlogId</td><td><div class=\"dni-plaintext\"><pre>1</pre></div></td></tr><tr><td>UserId</td><td><div class=\"dni-plaintext\"><pre>1</pre></div></td></tr><tr><td>BlogName</td><td>Dolore labore magnam cupiditate facilis nisi distinctio omnis veritatis perspiciatis.</td></tr><tr><td>Posts</td><td><table><thead><tr><th><i>index</i></th><th>value</th></tr></thead><tbody><tr><td>0</td><td>DataLayer.Entities.Post</td></tr></tbody></table></td></tr><tr><td>Owner</td><td><div class=\"dni-plaintext\"><pre>&lt;null&gt;</pre></div></td></tr></tbody></table></div></details></td></tr></tbody></table></div></details></td></tr></tbody></table></td></tr><tr><td>Owner</td><td><div class=\"dni-plaintext\"><pre>&lt;null&gt;</pre></div></td></tr></tbody></table></div></details></td></tr></tbody></table></div></details><style>\r\n",
       ".dni-code-hint {\r\n",
       "    font-style: italic;\r\n",
       "    overflow: hidden;\r\n",
       "    white-space: nowrap;\r\n",
       "}\r\n",
       ".dni-treeview {\r\n",
       "    white-space: nowrap;\r\n",
       "}\r\n",
       ".dni-treeview td {\r\n",
       "    vertical-align: top;\r\n",
       "    text-align: start;\r\n",
       "}\r\n",
       "details.dni-treeview {\r\n",
       "    padding-left: 1em;\r\n",
       "}\r\n",
       "table td {\r\n",
       "    text-align: start;\r\n",
       "}\r\n",
       "table tr { \r\n",
       "    vertical-align: top; \r\n",
       "    margin: 0em 0px;\r\n",
       "}\r\n",
       "table tr td pre \r\n",
       "{ \r\n",
       "    vertical-align: top !important; \r\n",
       "    margin: 0em 0px !important;\r\n",
       "} \r\n",
       "table th {\r\n",
       "    text-align: start;\r\n",
       "}\r\n",
       "</style>"
      ]
     },
     "metadata": {},
     "output_type": "display_data"
    }
   ],
   "source": [
    "using (var db = new BlogDbContext(DbOptions.Options))\n",
    "{\n",
    "    var BlogPost = db.Posts\n",
    "                    .Include(p => p.Blog) // Inkluder Blog\n",
    "                    .Include(p => p.User) // Inkluder Bruger\n",
    "                    .Where(p => p.BlogId == 1)\n",
    "                    .FirstOrDefault();\n",
    "    BlogPost.Display();                \n",
    "}"
   ]
  },
  {
   "attachments": {},
   "cell_type": "markdown",
   "metadata": {
    "dotnet_interactive": {
     "language": "csharp"
    },
    "polyglot_notebook": {
     "kernelName": "csharp"
    }
   },
   "source": [
    "----\n",
    "# 3. Oprettelse \n",
    "\n",
    "## Insert af en entry\n",
    "\n",
    "Normalt i entityframework vil man indsætte det i din dbcontext og derefter kalder på kontextens ``SaveChanges()`` eller ``SaveChangesAsync()`` for at skrive til databasen.\n"
   ]
  },
  {
   "cell_type": "code",
   "execution_count": null,
   "metadata": {
    "dotnet_interactive": {
     "language": "csharp"
    },
    "polyglot_notebook": {
     "kernelName": "csharp"
    },
    "vscode": {
     "languageId": "polyglot-notebook"
    }
   },
   "outputs": [],
   "source": [
    "using (var db = new BlogDbContext(DbOptions.Options))\n",
    "{\n",
    "    // opret bruger objekt\n",
    "    var user = new User() \n",
    "    {\n",
    "        UserName = \"User\",\n",
    "        Email = \"User@User.com\"\n",
    "    } ;\n",
    "\n",
    "    Console.WriteLine(\"User to be inserted\");\n",
    "    user.Display();\n",
    "\n",
    "    db.Users.Add(user); // tilføj til kontekst\n",
    "    // db.Add(user); // Du kan også tilføje et objekt som ikke har et Dbset defineret\n",
    "\n",
    "    db.SaveChanges(); // Skriv ændringer til database\n",
    "}\n",
    "\n",
    "using (var db = new BlogDbContext(DbOptions.Options))\n",
    "{\n",
    "    var Blogs = db.Users\n",
    "                    .Select(u => new {\n",
    "                        u.UserName,\n",
    "                        u.Email,\n",
    "                    }).ToList();\n",
    "                    \n",
    "    Blogs.Display();\n",
    "}"
   ]
  },
  {
   "attachments": {},
   "cell_type": "markdown",
   "metadata": {
    "dotnet_interactive": {
     "language": "csharp"
    },
    "polyglot_notebook": {
     "kernelName": "csharp"
    }
   },
   "source": [
    "## Nested Insert\n",
    "\n",
    "Du kan også oprette objekter inden i objekter som så bliver oprettet på samme tid."
   ]
  },
  {
   "cell_type": "code",
   "execution_count": null,
   "metadata": {
    "dotnet_interactive": {
     "language": "csharp"
    },
    "polyglot_notebook": {
     "kernelName": "csharp"
    },
    "vscode": {
     "languageId": "polyglot-notebook"
    }
   },
   "outputs": [],
   "source": [
    "using (var db = new BlogDbContext(DbOptions.Options))\n",
    "{\n",
    "    // opret bruger objekt\n",
    "    var user = new User() \n",
    "    {\n",
    "        UserName = \"User\",\n",
    "        Email = \"User@User.com\"\n",
    "    };\n",
    "\n",
    "    Console.WriteLine(\"User to be inserted\");\n",
    "    user.Display();\n",
    "\n",
    "    // Giver bruger objektet en ny blog.\n",
    "    user.OwnerOf = new List<Blog>() {\n",
    "        new Blog() {\n",
    "            BlogName = \"Blog1\"\n",
    "        },\n",
    "    };\n",
    "\n",
    "    Console.WriteLine(\"Blogs nested in User:\");\n",
    "    user.OwnerOf.Display();\n",
    "\n",
    "    db.Users.Add(user); // tilføj til kontekst\n",
    "\n",
    "    db.SaveChanges(); // Skriv ændringer til database\n",
    "}"
   ]
  },
  {
   "attachments": {},
   "cell_type": "markdown",
   "metadata": {
    "dotnet_interactive": {
     "language": "csharp"
    },
    "polyglot_notebook": {
     "kernelName": "csharp"
    }
   },
   "source": [
    "## Insert af flere entries.\n",
    "\n",
    "Hvis du tilføjer flere entries vil den lave en query for hver entry og sende den en af gangen."
   ]
  },
  {
   "cell_type": "code",
   "execution_count": null,
   "metadata": {
    "dotnet_interactive": {
     "language": "csharp"
    },
    "polyglot_notebook": {
     "kernelName": "csharp"
    },
    "vscode": {
     "languageId": "polyglot-notebook"
    }
   },
   "outputs": [],
   "source": [
    "using (var db = new BlogDbContext(DbOptions.Options))\n",
    "{\n",
    "    // opret bruger objekter\n",
    "    var user1 = new User() \n",
    "    {\n",
    "        UserName = \"User1\",\n",
    "        Email = \"User1@User.com\"\n",
    "    };\n",
    "\n",
    "    var user2 = new User() \n",
    "    {\n",
    "        UserName = \"User2\",\n",
    "        Email = \"User1@User.com\"\n",
    "    };\n",
    "\n",
    "    Console.WriteLine(\"Users:\");\n",
    "    user1.Display();\n",
    "    user2.Display();\n",
    "\n",
    "    // Indset objekter\n",
    "    db.Users.Add(user1);\n",
    "    db.Users.Add(user2);\n",
    "\n",
    "    db.SaveChanges(); // Skriv ændringer til database\n",
    "}"
   ]
  },
  {
   "attachments": {},
   "cell_type": "markdown",
   "metadata": {
    "dotnet_interactive": {
     "language": "csharp"
    },
    "polyglot_notebook": {
     "kernelName": "csharp"
    }
   },
   "source": [
    "Du kan også insætte en liste med hjælp af ``AddRange()``"
   ]
  },
  {
   "cell_type": "code",
   "execution_count": null,
   "metadata": {
    "dotnet_interactive": {
     "language": "csharp"
    },
    "polyglot_notebook": {
     "kernelName": "csharp"
    },
    "vscode": {
     "languageId": "polyglot-notebook"
    }
   },
   "outputs": [],
   "source": [
    "using (var db = new BlogDbContext(DbOptions.Options))\n",
    "{\n",
    "    List<User> users = new() {\n",
    "        new User() \n",
    "        {\n",
    "            UserName = \"User1\",\n",
    "            Email = \"User1@User.com\"\n",
    "        },\n",
    "        new User() \n",
    "        {\n",
    "            UserName = \"User2\",\n",
    "            Email = \"User1@User.com\"\n",
    "        }\n",
    "    };\n",
    "\n",
    "    db.Users.AddRange(users);\n",
    "    \n",
    "    db.SaveChanges(); // Skriv ændringer til database\n",
    "}"
   ]
  },
  {
   "attachments": {},
   "cell_type": "markdown",
   "metadata": {
    "dotnet_interactive": {
     "language": "csharp"
    },
    "polyglot_notebook": {
     "kernelName": "csharp"
    }
   },
   "source": [
    "----\n",
    "# 4. Opdatering af data\n",
    "\n",
    "## Opdatering af en entry\n",
    "\n",
    "For at opdatere skal man på normal vis vide hvad man skal opdatere.\n",
    "\n",
    "Som standard in entity framework vil man hente og derefter rette de properties man gerne vil ændre\n",
    "\n",
    "entitiy framework vil automatisk holde øje med objektet og opdatere den når ``SaveChanges()`` bliver kaldt.\n",
    "\n",
    "> hvis du kører koden flere gange med den samme ville du kunne se at entity framework ikke sender nogen query fordi den har fundet ud af ændringerne er den samme.\n",
    "\n",
    "> Prøv at lav en ændring af brugernavnet og se om ændringerne kommer igennem."
   ]
  },
  {
   "cell_type": "code",
   "execution_count": null,
   "metadata": {
    "dotnet_interactive": {
     "language": "csharp"
    },
    "polyglot_notebook": {
     "kernelName": "csharp"
    },
    "vscode": {
     "languageId": "polyglot-notebook"
    }
   },
   "outputs": [],
   "source": [
    "using (var db = new BlogDbContext(DbOptions.Options))\n",
    "{\n",
    "    Console.WriteLine(\"Get User\");\n",
    "    // Hent bruger fra database\n",
    "    User user = db.Users.Where(u => u.UserId == 1).FirstOrDefault();\n",
    "\n",
    "    user.Display();\n",
    "    \n",
    "    // retter Brugernavn til noget andet\n",
    "    user.UserName = \"SomeCoolUSer\";\n",
    "\n",
    "    Console.WriteLine(\"Save User\");\n",
    "\n",
    "    // Gæm ændringer\n",
    "    db.SaveChanges();\n",
    "\n",
    "    user.Display();\n",
    "}"
   ]
  },
  {
   "attachments": {},
   "cell_type": "markdown",
   "metadata": {
    "dotnet_interactive": {
     "language": "csharp"
    },
    "polyglot_notebook": {
     "kernelName": "csharp"
    }
   },
   "source": [
    "## Opdatering med brug af ChangeTracker\n",
    "\n",
    "I nogle tilfælde vil man gerne have kontrol over hvike fælter der skal opdateres.\n",
    "\n",
    "Der har dbconext der hedder ``Entry()`` som man kan bruge til at rette en en entity som enten er Added,Modified,Detached eller Deleted.\n",
    "\n",
    "> prøv at se hvad der sker hvis du retter entity state på en af felterne."
   ]
  },
  {
   "cell_type": "code",
   "execution_count": null,
   "metadata": {
    "dotnet_interactive": {
     "language": "csharp"
    },
    "polyglot_notebook": {
     "kernelName": "csharp"
    },
    "vscode": {
     "languageId": "polyglot-notebook"
    }
   },
   "outputs": [],
   "source": [
    "using (var db = new BlogDbContext(DbOptions.Options))\n",
    "{\n",
    "    Console.WriteLine(\"Get User\");\n",
    "    // Hent bruger fra database\n",
    "    User user = db.Users.Where(u => u.UserId == 1).FirstOrDefault();\n",
    "\n",
    "    user.Display();\n",
    "    \n",
    "    // retter Brugernavn til noget andet\n",
    "    user.UserName = \"SomeCoolUSer\";\n",
    "\n",
    "    db.Entry(user).Property(u => u.UserName).EntityEntry.State = EntityState.Modified; // Brugernavn bliver ændret\n",
    "    db.Entry(user).Property(u => u.Email).EntityEntry.State = EntityState.Modified; // Email bliver ændret selvon den ikke er ændret\n",
    "\n",
    "    // De øverste kan man også gøre på en linje.\n",
    "    //db.Entry(user).State = EntityState.Modified;\n",
    "\n",
    "    Console.WriteLine(\"Save User\");\n",
    "\n",
    "    // Gæm ændringer\n",
    "    db.SaveChanges();\n",
    "\n",
    "    user.Display();\n",
    "}"
   ]
  },
  {
   "attachments": {},
   "cell_type": "markdown",
   "metadata": {
    "dotnet_interactive": {
     "language": "csharp"
    },
    "polyglot_notebook": {
     "kernelName": "csharp"
    }
   },
   "source": [
    "## Opdatering af en detached entry\n",
    "\n",
    "Nogle gange kan man komme ud for at man har et objekt som skal opdateres men ikke er blevet hentet fra databasen.\n",
    "\n",
    "I dette tilfælde kan man bruge ``Attach()`` for at kunne tilføje den til konteksten og derefter hvis det er en enkel markere hvad der skal opdateres og hvad der ikke skal opdateres med changetrackeren dat den markerer alle som modified.\n",
    "\n",
    "> ``AsNoTracking()`` gør at den henter data og Changetrackeren vil ikke tracke de objekter som bliver hentet."
   ]
  },
  {
   "cell_type": "code",
   "execution_count": null,
   "metadata": {
    "dotnet_interactive": {
     "language": "csharp"
    },
    "polyglot_notebook": {
     "kernelName": "csharp"
    },
    "vscode": {
     "languageId": "polyglot-notebook"
    }
   },
   "outputs": [],
   "source": [
    "User user = new(); // Simulerer et Detached objekt\n",
    "\n",
    "using (var db = new BlogDbContext(DbOptions.Options))\n",
    "{\n",
    "    Console.WriteLine(\"Get User\");\n",
    "\n",
    "    // Hent bruger fra database\n",
    "    user = db.Users.Where(u => u.UserId == 3).AsNoTracking().FirstOrDefault();\n",
    "\n",
    "    user.Display();\n",
    "}\n",
    "\n",
    "user.Email = \"NewEmail@User.dk\";\n",
    "\n",
    "using (var db = new BlogDbContext(DbOptions.Options))\n",
    "{\n",
    "    // returnerer en entitycontekst som du kan bruge til at sætte entitystate\n",
    "    var userEntry = db.Attach(user);\n",
    "\n",
    "    userEntry.Property(u => u.UserId).EntityEntry.State = EntityState.Unchanged;\n",
    "    userEntry.Property(u => u.UserName).EntityEntry.State = EntityState.Unchanged;\n",
    "    userEntry.Property(u => u.Email).EntityEntry.State = EntityState.Modified;\n",
    "\n",
    "    db.SaveChanges();\n",
    "}"
   ]
  },
  {
   "attachments": {},
   "cell_type": "markdown",
   "metadata": {
    "dotnet_interactive": {
     "language": "csharp"
    },
    "polyglot_notebook": {
     "kernelName": "csharp"
    }
   },
   "source": [
    "----\n",
    "# 5. Fjern en entity\n",
    "\n",
    "Når du skal fjerne en entity fra databasen kan du bruge ``Remove()`` og derefter køre ``Savechanges()`` før at den vil fjerne den.\n"
   ]
  },
  {
   "cell_type": "code",
   "execution_count": null,
   "metadata": {
    "dotnet_interactive": {
     "language": "csharp"
    },
    "polyglot_notebook": {
     "kernelName": "csharp"
    },
    "vscode": {
     "languageId": "polyglot-notebook"
    }
   },
   "outputs": [],
   "source": [
    "using (var db = new BlogDbContext(DbOptions.Options))\n",
    "{\n",
    "    Console.WriteLine(\"Get User\");\n",
    "    // Hent bruger fra database\n",
    "    User user = db.Users.Where(u => u.UserId == 4).FirstOrDefault();\n",
    "\n",
    "    user.Display();\n",
    "\n",
    "    Console.WriteLine(\"Before delete:\");\n",
    "\n",
    "    db.Users.Display();\n",
    "    \n",
    "    db.Users.Remove(user); // Fjern bruger fra kontekst\n",
    "\n",
    "    // Gæm ændringer\n",
    "    db.SaveChanges();\n",
    "\n",
    "    Console.WriteLine(\"After delete:\");\n",
    "\n",
    "    db.Users.Display();\n",
    "}"
   ]
  },
  {
   "attachments": {},
   "cell_type": "markdown",
   "metadata": {
    "dotnet_interactive": {
     "language": "csharp"
    },
    "polyglot_notebook": {
     "kernelName": "csharp"
    }
   },
   "source": [
    "----\n",
    "# 6. Extra\n",
    "\n",
    "## Compiled Queries\n",
    "\n",
    "I nogle tilfælde vil der være nogle queries som bliver kørt mange gange men er meget tunge at compilere flere gange.\n",
    "\n",
    "Man kan i entity framwork compilere queries forud ved at bruge ``EF.CompileQuery()`` eller ``EF.CompileQueryAsync()`` for at kunne ungå dette da vi har vores færdige query som vi kan bruge.\n",
    "\n",
    "> For bedre resultat. genstart kernel og kør start."
   ]
  },
  {
   "cell_type": "code",
   "execution_count": null,
   "metadata": {
    "dotnet_interactive": {
     "language": "csharp"
    },
    "polyglot_notebook": {
     "kernelName": "csharp"
    },
    "vscode": {
     "languageId": "polyglot-notebook"
    }
   },
   "outputs": [],
   "source": [
    "// Uden den der compileret forud\n",
    "using (var db = new BlogDbContext(DbOptions.Options))\n",
    "{\n",
    "    Stopwatch sw = new Stopwatch();\n",
    "    sw.Start();\n",
    "    var result = db.Posts\n",
    "                    .Include(p => p.Blog)\n",
    "                    .Include(p => p.User)\n",
    "                    .Where(p => p.title.ToLower().Contains(\"a\"))\n",
    "                    .ToList();\n",
    "    sw.Stop();\n",
    "    $\"Time: {sw.ElapsedMilliseconds}ms.\".Display();\n",
    "}"
   ]
  },
  {
   "cell_type": "code",
   "execution_count": null,
   "metadata": {
    "dotnet_interactive": {
     "language": "csharp"
    },
    "polyglot_notebook": {
     "kernelName": "csharp"
    },
    "vscode": {
     "languageId": "polyglot-notebook"
    }
   },
   "outputs": [],
   "source": [
    "// Med compiled query\n",
    "{\n",
    "\n",
    "    // compile query\n",
    "    var CompiledQuery = EF.CompileQuery((BlogDbContext db) => \n",
    "                                            db.Posts\n",
    "                                                .Include(p => p.Blog)\n",
    "                                                .Include(p => p.User)\n",
    "                                                .Where(p => p.title.ToLower().Contains(\"a\"))\n",
    "                                        );\n",
    "\n",
    "    using (var db = new BlogDbContext(DbOptions.Options))\n",
    "    {\n",
    "        Stopwatch sw = new Stopwatch();\n",
    "        sw.Start();\n",
    "\n",
    "        // Kør compiled query\n",
    "        var result = CompiledQuery.Invoke(db);\n",
    "\n",
    "        sw.Stop();\n",
    "        $\"Time: {sw.ElapsedMilliseconds}ms.\".Display();\n",
    "    }\n",
    "}"
   ]
  }
 ],
 "metadata": {
  "kernelspec": {
   "display_name": ".NET (C#)",
   "language": "C#",
   "name": ".net-csharp"
  },
  "polyglot_notebook": {
   "kernelInfo": {
    "defaultKernelName": "csharp",
    "items": [
     {
      "aliases": [
       "c#",
       "C#"
      ],
      "languageName": "C#",
      "name": "csharp"
     },
     {
      "aliases": [
       "frontend"
      ],
      "languageName": null,
      "name": "vscode"
     },
     {
      "aliases": [
       "js",
       "sortBy"
      ],
      "languageName": "JavaScript",
      "name": "javascript"
     },
     {
      "aliases": [
       "sortBy"
      ],
      "name": "webview"
     },
     {
      "aliases": [],
      "name": ".NET"
     },
     {
      "aliases": [
       "f#",
       "F#"
      ],
      "languageName": "F#",
      "name": "fsharp"
     },
     {
      "aliases": [],
      "languageName": "HTML",
      "name": "html"
     },
     {
      "aliases": [],
      "languageName": "KQL",
      "name": "kql"
     },
     {
      "aliases": [],
      "languageName": "Mermaid",
      "name": "mermaid"
     },
     {
      "aliases": [
       "powershell"
      ],
      "languageName": "PowerShell",
      "name": "pwsh"
     },
     {
      "aliases": [],
      "languageName": "SQL",
      "name": "sql"
     },
     {
      "aliases": [],
      "name": "value"
     }
    ]
   }
  }
 },
 "nbformat": 4,
 "nbformat_minor": 2
}
