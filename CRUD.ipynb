{
 "cells": [
  {
   "attachments": {},
   "cell_type": "markdown",
   "metadata": {
    "dotnet_interactive": {
     "language": "csharp"
    },
    "polyglot_notebook": {
     "kernelName": "csharp"
    }
   },
   "source": [
    "# CRUD\n",
    "#### (Create,Read,Update,Delete)\n",
    "\n",
    "### Inhold\n",
    "1. Start\n",
    "2. Hent Fra Database\n",
    "    - Simple Queries\n",
    "    - Data tranformation\n",
    "    - Eager loading\n",
    "3. Oprettelse\n",
    "    - Insert af en entry.\n",
    "    - Nested Insert.\n",
    "    - Insert af flere entries.\n",
    "4. Opdatering af data\n",
    "    - Opdatering af en entry.\n",
    "    - Opdatering med brug af ChangeTracker.\n",
    "    - Opdatering af en detached entry.\n",
    "----"
   ]
  },
  {
   "attachments": {},
   "cell_type": "markdown",
   "metadata": {
    "dotnet_interactive": {
     "language": "csharp"
    },
    "polyglot_notebook": {
     "kernelName": "csharp"
    }
   },
   "source": [
    "## 1. Start\n",
    "for at bruge denne notebook skal du have powershell core installeret.\n",
    "\n",
    "Winget:"
   ]
  },
  {
   "cell_type": "code",
   "execution_count": null,
   "metadata": {
    "dotnet_interactive": {
     "language": "pwsh"
    },
    "polyglot_notebook": {
     "kernelName": "pwsh"
    },
    "vscode": {
     "languageId": "polyglot-notebook"
    }
   },
   "outputs": [],
   "source": [
    "# Out-file delen kan undværes hvis du copy paster den til din kommandopromt. da den spytter en masse ud i notedsbogen.\n",
    "winget install Microsoft.PowerShell \n",
    "| Out-File -FilePath WingetOutput.txt"
   ]
  },
  {
   "attachments": {},
   "cell_type": "markdown",
   "metadata": {
    "dotnet_interactive": {
     "language": "csharp"
    },
    "polyglot_notebook": {
     "kernelName": "csharp"
    }
   },
   "source": [
    "Kør koden nedenunder før du kører eksemplerne."
   ]
  },
  {
   "cell_type": "code",
   "execution_count": 1,
   "metadata": {
    "dotnet_interactive": {
     "language": "csharp"
    },
    "polyglot_notebook": {
     "kernelName": "csharp"
    },
    "vscode": {
     "languageId": "polyglot-notebook"
    }
   },
   "outputs": [
    {
     "name": "stdout",
     "output_type": "stream",
     "text": [
      "Building Project\n",
      "Project build completed\n"
     ]
    },
    {
     "data": {
      "text/html": [
       "<div><div></div><div></div><div><strong>Installed Packages</strong><ul><li><span>Bogus, 34.0.2</span></li><li><span>Microsoft.EntityFrameworkCore, 7.0.3</span></li><li><span>Microsoft.EntityFrameworkCore.Sqlite, 7.0.3</span></li><li><span>Microsoft.EntityFrameworkCore.SqlServer, 7.0.3</span></li></ul></div></div>"
      ]
     },
     "metadata": {},
     "output_type": "display_data"
    },
    {
     "name": "stdout",
     "output_type": "stream",
     "text": [
      "Removing old database..\n",
      "Creating new database..\n",
      "Seeding Database.\n",
      "Done.\n"
     ]
    }
   ],
   "source": [
    "\n",
    "#!pwsh \n",
    "# Powershell kode\n",
    "Write-Host \"Building Project\"\n",
    "dotnet build Efcore.sln | Out-File -FilePath BuildOutput.txt\n",
    "Write-Host \"Project build completed\"\n",
    "\n",
    "#!C#\n",
    "// Nuget Import \n",
    "#r \"nuget: Bogus\"\n",
    "#r \"nuget: Microsoft.EntityFrameworkCore\"\n",
    "#r \"nuget: Microsoft.EntityFrameworkCore.SqlServer\"\n",
    "#r \"nuget: Microsoft.EntityFrameworkCore.Sqlite\"\n",
    "#r \"DataLayer\\bin\\Debug\\net7.0\\DataLayer.dll\"\n",
    "\n",
    "// Usings\n",
    "using Microsoft.EntityFrameworkCore;\n",
    "using DataLayer;\n",
    "using DataLayer.Entities;\n",
    "\n",
    "// Dbcontext instillinger.\n",
    "DbContextOptionsBuilder<BlogDbContext> DbOptions = new();\n",
    "DbOptions.UseSqlite(\"Data Source=mydb.db;\",o => o.MinBatchSize(1).MaxBatchSize(100));\n",
    "//DbOptions.UseSqlServer(\"<ConnectionString Here>\"); // Du kan bruge en normal database hvis du vil.\n",
    "\n",
    "// Seeding af tabeller\n",
    "using (var db = new BlogDbContext(DbOptions.Options))\n",
    "{\n",
    "    Console.WriteLine(\"Removing old database..\");\n",
    "    db.Database.EnsureDeleted();\n",
    "    Console.WriteLine(\"Creating new database..\");\n",
    "    db.Database.EnsureCreated();\n",
    "}\n",
    "\n",
    "// seeding med instillinger\n",
    "// Alt der bliver oprettet er tilfældige navne og data.\n",
    "Console.WriteLine(\"Seeding Database.\");\n",
    "var users = DbOptions.Options.CreateRandomUsers(10); // der vil blive oprettet 10 brugere\n",
    "var blogs = DbOptions.Options.CreateRandomBlogs(users); // hver bruger ejer en blog\n",
    "var posts = DbOptions.Options.CreateRandomPosts(40,blogs,users); // 40 post over alle blogs og brugere\n",
    "Console.WriteLine(\"Done.\");\n",
    "\n",
    "// Enable Sensitive Data Logging\n",
    "DbOptions\n",
    "    .EnableSensitiveDataLogging()\n",
    "    .LogTo(a => a.Display(),Microsoft.Extensions.Logging.LogLevel.Information);"
   ]
  },
  {
   "attachments": {},
   "cell_type": "markdown",
   "metadata": {
    "dotnet_interactive": {
     "language": "csharp"
    },
    "polyglot_notebook": {
     "kernelName": "csharp"
    }
   },
   "source": [
    "-----\n",
    "# 2. Hent fra datbase\n",
    "## Simple queries\n",
    "Henter data fra databasen hvor teksten skal indeholde \"et\".\n",
    "\n",
    "Der der blibver konverteret til lowercase for at få ikke at søge case sensitiv.\n",
    "\n",
    "> Note. Det er meningen at Posts og owner er Null.\n",
    "> Vi kommer til det Senere."
   ]
  },
  {
   "cell_type": "code",
   "execution_count": null,
   "metadata": {
    "dotnet_interactive": {
     "language": "csharp"
    },
    "polyglot_notebook": {
     "kernelName": "csharp"
    },
    "vscode": {
     "languageId": "polyglot-notebook"
    }
   },
   "outputs": [],
   "source": [
    "using (var db = new BlogDbContext(DbOptions.Options))\n",
    "{\n",
    "    var Blogs = db.Blogs\n",
    "                    .Where(b => b.BlogName.ToLower().Contains(\"et\"))\n",
    "                    .ToList();\n",
    "                    \n",
    "    Blogs.Display();\n",
    "}"
   ]
  },
  {
   "attachments": {},
   "cell_type": "markdown",
   "metadata": {
    "dotnet_interactive": {
     "language": "csharp"
    },
    "polyglot_notebook": {
     "kernelName": "csharp"
    }
   },
   "source": [
    "Her gør vi det samme bare med at vi henter posts med et specifikt Blogid."
   ]
  },
  {
   "cell_type": "code",
   "execution_count": null,
   "metadata": {
    "dotnet_interactive": {
     "language": "csharp"
    },
    "polyglot_notebook": {
     "kernelName": "csharp"
    },
    "vscode": {
     "languageId": "polyglot-notebook"
    }
   },
   "outputs": [],
   "source": [
    "using (var db = new BlogDbContext(DbOptions.Options))\n",
    "{\n",
    "    var Blogs = db.Posts\n",
    "                    .Where(b => b.BlogId == 2)\n",
    "                    .ToList();\n",
    "                    \n",
    "    Blogs.Display();\n",
    "}"
   ]
  },
  {
   "attachments": {},
   "cell_type": "markdown",
   "metadata": {
    "dotnet_interactive": {
     "language": "csharp"
    },
    "polyglot_notebook": {
     "kernelName": "csharp"
    }
   },
   "source": [
    "## Data Transformering med queries\n",
    "\n",
    "Man hente data og tranformere til en anden klasse med ``Select()`` og så vil entity framework selv lave de nødvendige sql kommandoer.\n",
    "\n",
    "> Observer at entity framework selv laver inner joins for at få data"
   ]
  },
  {
   "cell_type": "code",
   "execution_count": null,
   "metadata": {
    "dotnet_interactive": {
     "language": "csharp"
    },
    "polyglot_notebook": {
     "kernelName": "csharp"
    },
    "vscode": {
     "languageId": "polyglot-notebook"
    }
   },
   "outputs": [],
   "source": [
    "using (var db = new BlogDbContext(DbOptions.Options))\n",
    "{\n",
    "    var Blogs = db.Posts\n",
    "                    .Where(p => p.BlogId == 1)\n",
    "                    .Select(p => new {\n",
    "                        Title = p.title,\n",
    "                        Description = p.desctription,\n",
    "                        UserName = p.User.UserName,\n",
    "                        BlogName = p.Blog.BlogName\n",
    "                    }).ToList();\n",
    "                    \n",
    "    Blogs.Display();\n",
    "}"
   ]
  },
  {
   "attachments": {},
   "cell_type": "markdown",
   "metadata": {
    "dotnet_interactive": {
     "language": "csharp"
    },
    "polyglot_notebook": {
     "kernelName": "csharp"
    }
   },
   "source": [
    "## Eager loading\n",
    "\n",
    "I den første demo var User og Blog Null.\n",
    "\n",
    "Det er fordi Entityframework kun henter fra den første entitet.\n"
   ]
  },
  {
   "cell_type": "code",
   "execution_count": null,
   "metadata": {
    "dotnet_interactive": {
     "language": "csharp"
    },
    "polyglot_notebook": {
     "kernelName": "csharp"
    },
    "vscode": {
     "languageId": "polyglot-notebook"
    }
   },
   "outputs": [],
   "source": [
    "using (var db = new BlogDbContext(DbOptions.Options))\n",
    "{\n",
    "    var BlogPost = db.Posts\n",
    "                    .Where(p => p.BlogId == 1)\n",
    "                    .FirstOrDefault();\n",
    "                    \n",
    "    $\"Title: {BlogPost?.title}\".Display();\n",
    "    $\"Desctription: {BlogPost?.desctription}\".Display();\n",
    "    $\"User: {BlogPost.User?.UserName}\".Display();\n",
    "    $\"BlogName: {BlogPost.Blog?.BlogName}\".Display();\n",
    "}"
   ]
  },
  {
   "attachments": {},
   "cell_type": "markdown",
   "metadata": {
    "dotnet_interactive": {
     "language": "csharp"
    },
    "polyglot_notebook": {
     "kernelName": "csharp"
    }
   },
   "source": [
    "Det kan løses ved at bruge Eager loading som vil tilføje entiteneten til query så den kommer med fra databasen ved at bruge ``Include()`` metoden."
   ]
  },
  {
   "cell_type": "code",
   "execution_count": 2,
   "metadata": {
    "dotnet_interactive": {
     "language": "csharp"
    },
    "polyglot_notebook": {
     "kernelName": "csharp"
    },
    "vscode": {
     "languageId": "polyglot-notebook"
    }
   },
   "outputs": [
    {
     "data": {
      "text/plain": [
       "warn: 02-03-2023 13:34:17.769 CoreEventId.SensitiveDataLoggingEnabledWarning[10400] (Microsoft.EntityFrameworkCore.Infrastructure) \r\n",
       "      Sensitive data logging is enabled. Log entries and exception messages may include sensitive application data; this mode should only be enabled during development."
      ]
     },
     "metadata": {},
     "output_type": "display_data"
    },
    {
     "data": {
      "text/plain": [
       "info: 02-03-2023 13:34:17.958 RelationalEventId.CommandExecuted[20101] (Microsoft.EntityFrameworkCore.Database.Command) \r\n",
       "      Executed DbCommand (0ms) [Parameters=[], CommandType='Text', CommandTimeout='30']\r\n",
       "      SELECT \"p\".\"PostId\", \"p\".\"BlogId\", \"p\".\"UserId\", \"p\".\"desctription\", \"p\".\"title\", \"b\".\"BlogId\", \"b\".\"BlogName\", \"b\".\"UserId\", \"u\".\"UserId\", \"u\".\"Email\", \"u\".\"UserName\"\r\n",
       "      FROM \"Posts\" AS \"p\"\r\n",
       "      INNER JOIN \"Blogs\" AS \"b\" ON \"p\".\"BlogId\" = \"b\".\"BlogId\"\r\n",
       "      INNER JOIN \"Users\" AS \"u\" ON \"p\".\"UserId\" = \"u\".\"UserId\"\r\n",
       "      WHERE \"p\".\"BlogId\" = 1\r\n",
       "      LIMIT 1"
      ]
     },
     "metadata": {},
     "output_type": "display_data"
    },
    {
     "data": {
      "text/plain": [
       "Title: this product is standard."
      ]
     },
     "metadata": {},
     "output_type": "display_data"
    },
    {
     "data": {
      "text/plain": [
       "Desctription: Quo quaerat dicta sunt est modi qui quaerat inventore. Reiciendis tempore expedita nulla id enim asperiores. Officiis voluptatem qui eveniet placeat libero ad."
      ]
     },
     "metadata": {},
     "output_type": "display_data"
    },
    {
     "data": {
      "text/plain": [
       "User: Aliya.Nieklauson17"
      ]
     },
     "metadata": {},
     "output_type": "display_data"
    },
    {
     "data": {
      "text/plain": [
       "BlogName: Sunt voluptates nihil consequatur sunt voluptate assumenda et ut."
      ]
     },
     "metadata": {},
     "output_type": "display_data"
    }
   ],
   "source": [
    "using (var db = new BlogDbContext(DbOptions.Options))\n",
    "{\n",
    "    var BlogPost = db.Posts\n",
    "                    .Include(p => p.Blog) // Inkluder Blog\n",
    "                    .Include(p => p.User) // Inkluder Bruger\n",
    "                    .Where(p => p.BlogId == 1)\n",
    "                    .FirstOrDefault();\n",
    "                    \n",
    "    $\"Title: {BlogPost?.title}\".Display();\n",
    "    $\"Desctription: {BlogPost?.desctription}\".Display();\n",
    "    $\"User: {BlogPost.User?.UserName}\".Display();\n",
    "    $\"BlogName: {BlogPost.Blog?.BlogName}\".Display();\n",
    "}"
   ]
  },
  {
   "attachments": {},
   "cell_type": "markdown",
   "metadata": {
    "dotnet_interactive": {
     "language": "csharp"
    },
    "polyglot_notebook": {
     "kernelName": "csharp"
    }
   },
   "source": [
    "----\n",
    "# 3. Oprettelse \n",
    "\n",
    "## Insert af en entry\n",
    "\n",
    "Normalt i entityframework vil man indsætte det i din dbcontext og derefter kalder på kontextens ``SaveChanges()`` eller ``SaveChangesAsync()`` for at skrive til databasen.\n"
   ]
  },
  {
   "cell_type": "code",
   "execution_count": null,
   "metadata": {
    "dotnet_interactive": {
     "language": "csharp"
    },
    "polyglot_notebook": {
     "kernelName": "csharp"
    },
    "vscode": {
     "languageId": "polyglot-notebook"
    }
   },
   "outputs": [],
   "source": [
    "using (var db = new BlogDbContext(DbOptions.Options))\n",
    "{\n",
    "    // opret bruger objekt\n",
    "    var user = new User() \n",
    "    {\n",
    "        UserName = \"User\",\n",
    "        Email = \"User@User.com\"\n",
    "    } ;\n",
    "\n",
    "    Console.WriteLine(\"User to be inserted\");\n",
    "    user.Display();\n",
    "\n",
    "    db.Users.Add(user); // tilføj til kontekst\n",
    "    // db.Add(user); // Du kan også tilføje et objekt som ikke har et Dbset defineret\n",
    "\n",
    "    db.SaveChanges(); // Skriv ændringer til database\n",
    "}\n",
    "\n",
    "using (var db = new BlogDbContext(DbOptions.Options))\n",
    "{\n",
    "    var Blogs = db.Users\n",
    "                    .Select(u => new {\n",
    "                        u.UserName,\n",
    "                        u.Email,\n",
    "                    }).ToList();\n",
    "                    \n",
    "    Blogs.Display();\n",
    "}"
   ]
  },
  {
   "attachments": {},
   "cell_type": "markdown",
   "metadata": {
    "dotnet_interactive": {
     "language": "csharp"
    },
    "polyglot_notebook": {
     "kernelName": "csharp"
    }
   },
   "source": [
    "## Nested Insert\n",
    "\n",
    "Du kan også oprette objekter inden i objekter som så bliver oprettet på samme tid."
   ]
  },
  {
   "cell_type": "code",
   "execution_count": null,
   "metadata": {
    "dotnet_interactive": {
     "language": "csharp"
    },
    "polyglot_notebook": {
     "kernelName": "csharp"
    },
    "vscode": {
     "languageId": "polyglot-notebook"
    }
   },
   "outputs": [],
   "source": [
    "using (var db = new BlogDbContext(DbOptions.Options))\n",
    "{\n",
    "    // opret bruger objekt\n",
    "    var user = new User() \n",
    "    {\n",
    "        UserName = \"User\",\n",
    "        Email = \"User@User.com\"\n",
    "    };\n",
    "\n",
    "    Console.WriteLine(\"User to be inserted\");\n",
    "    user.Display();\n",
    "\n",
    "    // Giver bruger objektet en ny blog.\n",
    "    user.OwnerOf = new List<Blog>() {\n",
    "        new Blog() {\n",
    "            BlogName = \"Blog1\"\n",
    "        },\n",
    "    };\n",
    "\n",
    "    Console.WriteLine(\"Blogs nested in User:\");\n",
    "    user.OwnerOf.Display();\n",
    "\n",
    "    db.Users.Add(user); // tilføj til kontekst\n",
    "\n",
    "    db.SaveChanges(); // Skriv ændringer til database\n",
    "}"
   ]
  },
  {
   "attachments": {},
   "cell_type": "markdown",
   "metadata": {
    "dotnet_interactive": {
     "language": "csharp"
    },
    "polyglot_notebook": {
     "kernelName": "csharp"
    }
   },
   "source": [
    "## Insert af flere entries.\n",
    "\n",
    "Hvis du tilføjer flere entries vil den lave en query for hver entry og sende den en af gangen."
   ]
  },
  {
   "cell_type": "code",
   "execution_count": null,
   "metadata": {
    "dotnet_interactive": {
     "language": "csharp"
    },
    "polyglot_notebook": {
     "kernelName": "csharp"
    },
    "vscode": {
     "languageId": "polyglot-notebook"
    }
   },
   "outputs": [],
   "source": [
    "using (var db = new BlogDbContext(DbOptions.Options))\n",
    "{\n",
    "    // opret bruger objekter\n",
    "    var user1 = new User() \n",
    "    {\n",
    "        UserName = \"User1\",\n",
    "        Email = \"User1@User.com\"\n",
    "    };\n",
    "\n",
    "    var user2 = new User() \n",
    "    {\n",
    "        UserName = \"User2\",\n",
    "        Email = \"User1@User.com\"\n",
    "    };\n",
    "\n",
    "    Console.WriteLine(\"Users:\");\n",
    "    user1.Display();\n",
    "    user2.Display();\n",
    "\n",
    "    // Indset objekter\n",
    "    db.Users.Add(user1);\n",
    "    db.Users.Add(user2);\n",
    "\n",
    "    db.SaveChanges(); // Skriv ændringer til database\n",
    "}"
   ]
  },
  {
   "attachments": {},
   "cell_type": "markdown",
   "metadata": {
    "dotnet_interactive": {
     "language": "csharp"
    },
    "polyglot_notebook": {
     "kernelName": "csharp"
    }
   },
   "source": [
    "Du kan også insætte en liste med hjælp af ``AddRange()``"
   ]
  },
  {
   "cell_type": "code",
   "execution_count": null,
   "metadata": {
    "dotnet_interactive": {
     "language": "csharp"
    },
    "polyglot_notebook": {
     "kernelName": "csharp"
    },
    "vscode": {
     "languageId": "polyglot-notebook"
    }
   },
   "outputs": [],
   "source": [
    "using (var db = new BlogDbContext(DbOptions.Options))\n",
    "{\n",
    "    List<User> users = new() {\n",
    "        new User() \n",
    "        {\n",
    "            UserName = \"User1\",\n",
    "            Email = \"User1@User.com\"\n",
    "        },\n",
    "        new User() \n",
    "        {\n",
    "            UserName = \"User2\",\n",
    "            Email = \"User1@User.com\"\n",
    "        }\n",
    "    };\n",
    "\n",
    "    db.Users.AddRange(users);\n",
    "    \n",
    "    db.SaveChanges(); // Skriv ændringer til database\n",
    "}"
   ]
  },
  {
   "attachments": {},
   "cell_type": "markdown",
   "metadata": {
    "dotnet_interactive": {
     "language": "csharp"
    },
    "polyglot_notebook": {
     "kernelName": "csharp"
    }
   },
   "source": [
    "----\n",
    "# 4. Opdatering af data\n",
    "\n",
    "## Opdatering af en entry\n",
    "\n",
    "For at opdatere skal man på normal vis vide hvad man skal opdatere.\n",
    "\n",
    "Som standard in entity framework vil man hente og derefter rette de properties man gerne vil ændre\n",
    "\n",
    "entitiy framework vil automatisk holde øje med objektet og opdatere den når ``SaveChanges()`` bliver kaldt.\n",
    "\n",
    "> hvis du kører koden flere gange med den samme ville du kunne se at entity framework ikke sender nogen query fordi den har fundet ud af ændringerne er den samme.\n",
    "\n",
    "> Prøv at lav en ændring af brugernavnet og se om ændringerne kommer igennem."
   ]
  },
  {
   "cell_type": "code",
   "execution_count": null,
   "metadata": {
    "dotnet_interactive": {
     "language": "csharp"
    },
    "polyglot_notebook": {
     "kernelName": "csharp"
    },
    "vscode": {
     "languageId": "polyglot-notebook"
    }
   },
   "outputs": [],
   "source": [
    "using (var db = new BlogDbContext(DbOptions.Options))\n",
    "{\n",
    "    Console.WriteLine(\"Get User\");\n",
    "    // Hent bruger fra database\n",
    "    User user = db.Users.Where(u => u.UserId == 1).FirstOrDefault();\n",
    "\n",
    "    user.Display();\n",
    "    \n",
    "    // retter Brugernavn til noget andet\n",
    "    user.UserName = \"SomeCoolUSer\";\n",
    "\n",
    "    Console.WriteLine(\"Save User\");\n",
    "\n",
    "    // Gæm ændringer\n",
    "    db.SaveChanges();\n",
    "\n",
    "    user.Display();\n",
    "}"
   ]
  },
  {
   "attachments": {},
   "cell_type": "markdown",
   "metadata": {
    "dotnet_interactive": {
     "language": "csharp"
    },
    "polyglot_notebook": {
     "kernelName": "csharp"
    }
   },
   "source": [
    "## Opdatering med brug af ChangeTracker\n",
    "\n",
    "I nogle tilfælde vil man gerne have kontrol over hvike fælter der skal opdateres.\n",
    "\n",
    "Der har dbconext der hedder ``Entry()`` som man kan bruge til at rette en en entity som enten er Added,Modified,Detached eller Deleted.\n",
    "\n",
    "> prøv at se hvad der sker hvis du retter entity state på en af felterne."
   ]
  },
  {
   "cell_type": "code",
   "execution_count": null,
   "metadata": {
    "dotnet_interactive": {
     "language": "csharp"
    },
    "polyglot_notebook": {
     "kernelName": "csharp"
    },
    "vscode": {
     "languageId": "polyglot-notebook"
    }
   },
   "outputs": [],
   "source": [
    "using (var db = new BlogDbContext(DbOptions.Options))\n",
    "{\n",
    "    Console.WriteLine(\"Get User\");\n",
    "    // Hent bruger fra database\n",
    "    User user = db.Users.Where(u => u.UserId == 1).FirstOrDefault();\n",
    "\n",
    "    user.Display();\n",
    "    \n",
    "    // retter Brugernavn til noget andet\n",
    "    user.UserName = \"SomeCoolUSer\";\n",
    "\n",
    "    db.Entry(user).Property(u => u.UserName).EntityEntry.State = EntityState.Modified; // Brugernavn bliver ændret\n",
    "    db.Entry(user).Property(u => u.Email).EntityEntry.State = EntityState.Modified; // Email bliver ændret selvon den ikke er ændret\n",
    "\n",
    "    // De øverste kan man også gøre på en linje.\n",
    "    //db.Entry(user).State = EntityState.Modified;\n",
    "\n",
    "    Console.WriteLine(\"Save User\");\n",
    "\n",
    "    // Gæm ændringer\n",
    "    db.SaveChanges();\n",
    "\n",
    "    user.Display();\n",
    "}"
   ]
  },
  {
   "attachments": {},
   "cell_type": "markdown",
   "metadata": {
    "dotnet_interactive": {
     "language": "csharp"
    },
    "polyglot_notebook": {
     "kernelName": "csharp"
    }
   },
   "source": [
    "## Opdatering af en detached entry\n",
    "\n",
    "Nogle gange kan man komme ud for at man har et objekt som skal opdateres men ikke er blevet hentet fra databasen.\n",
    "\n",
    "I dette tilfælde kan man bruge ``Attach()`` for at kunne tilføje den til konteksten og derefter hvis det er en enkel markere hvad der skal opdateres og hvad der ikke skal opdateres med changetrackeren dat den markerer alle som modified.\n",
    "\n",
    "> ``AsNoTracking()`` gør at den henter data og Changetrackeren vil ikke tracke de objekter som bliver hentet."
   ]
  },
  {
   "cell_type": "code",
   "execution_count": 4,
   "metadata": {
    "dotnet_interactive": {
     "language": "csharp"
    },
    "polyglot_notebook": {
     "kernelName": "csharp"
    },
    "vscode": {
     "languageId": "polyglot-notebook"
    }
   },
   "outputs": [
    {
     "name": "stdout",
     "output_type": "stream",
     "text": [
      "Get User\r\n"
     ]
    },
    {
     "data": {
      "text/plain": [
       "info: 02-03-2023 13:52:18.383 RelationalEventId.CommandExecuted[20101] (Microsoft.EntityFrameworkCore.Database.Command) \r\n",
       "      Executed DbCommand (0ms) [Parameters=[], CommandType='Text', CommandTimeout='30']\r\n",
       "      SELECT \"u\".\"UserId\", \"u\".\"Email\", \"u\".\"UserName\"\r\n",
       "      FROM \"Users\" AS \"u\"\r\n",
       "      WHERE \"u\".\"UserId\" = 3\r\n",
       "      LIMIT 1"
      ]
     },
     "metadata": {},
     "output_type": "display_data"
    },
    {
     "data": {
      "text/html": [
       "<table><thead><tr><th>UserId</th><th>UserName</th><th>Email</th><th>OwnerOf</th></tr></thead><tbody><tr><td><div class=\"dni-plaintext\"><pre>3</pre></div></td><td><div class=\"dni-plaintext\"><pre>Elias71</pre></div></td><td><div class=\"dni-plaintext\"><pre>Elias_Knorr17@yahoo.com</pre></div></td><td><div class=\"dni-plaintext\"><pre>&lt;null&gt;</pre></div></td></tr></tbody></table><style>\r\n",
       ".dni-code-hint {\r\n",
       "    font-style: italic;\r\n",
       "    overflow: hidden;\r\n",
       "    white-space: nowrap;\r\n",
       "}\r\n",
       ".dni-treeview {\r\n",
       "    white-space: nowrap;\r\n",
       "}\r\n",
       ".dni-treeview td {\r\n",
       "    vertical-align: top;\r\n",
       "    text-align: start;\r\n",
       "}\r\n",
       "details.dni-treeview {\r\n",
       "    padding-left: 1em;\r\n",
       "}\r\n",
       "table td {\r\n",
       "    text-align: start;\r\n",
       "}\r\n",
       "table tr { \r\n",
       "    vertical-align: top; \r\n",
       "    margin: 0em 0px;\r\n",
       "}\r\n",
       "table tr td pre \r\n",
       "{ \r\n",
       "    vertical-align: top !important; \r\n",
       "    margin: 0em 0px !important;\r\n",
       "} \r\n",
       "table th {\r\n",
       "    text-align: start;\r\n",
       "}\r\n",
       "</style>"
      ]
     },
     "metadata": {},
     "output_type": "display_data"
    },
    {
     "data": {
      "text/plain": [
       "info: 02-03-2023 13:52:18.397 RelationalEventId.CommandExecuted[20101] (Microsoft.EntityFrameworkCore.Database.Command) \r\n",
       "      Executed DbCommand (0ms) [Parameters=[@p2='3', @p0='NewEmail@User.dk' (Nullable = false) (Size = 16), @p1='Elias71' (Nullable = false) (Size = 7)], CommandType='Text', CommandTimeout='30']\r\n",
       "      UPDATE \"Users\" SET \"Email\" = @p0, \"UserName\" = @p1\r\n",
       "      WHERE \"UserId\" = @p2\r\n",
       "      RETURNING 1;"
      ]
     },
     "metadata": {},
     "output_type": "display_data"
    }
   ],
   "source": [
    "User user = new(); // Simulerer et Detached objekt\n",
    "\n",
    "using (var db = new BlogDbContext(DbOptions.Options))\n",
    "{\n",
    "    Console.WriteLine(\"Get User\");\n",
    "\n",
    "    // Hent bruger fra database\n",
    "    user = db.Users.Where(u => u.UserId == 3).AsNoTracking().FirstOrDefault();\n",
    "\n",
    "    user.Display();\n",
    "}\n",
    "\n",
    "user.Email = \"NewEmail@User.dk\";\n",
    "\n",
    "using (var db = new BlogDbContext(DbOptions.Options))\n",
    "{\n",
    "    // returnerer en entitycontekst som du kan bruge til at sætte entitystate\n",
    "    var userEntry = db.Attach(user);\n",
    "\n",
    "    userEntry.Property(u => u.UserId).EntityEntry.State = EntityState.Unchanged;\n",
    "    userEntry.Property(u => u.UserName).EntityEntry.State = EntityState.Unchanged;\n",
    "    userEntry.Property(u => u.Email).EntityEntry.State = EntityState.Modified;\n",
    "\n",
    "    db.SaveChanges();\n",
    "}"
   ]
  }
 ],
 "metadata": {
  "kernelspec": {
   "display_name": ".NET (C#)",
   "language": "C#",
   "name": ".net-csharp"
  },
  "polyglot_notebook": {
   "kernelInfo": {
    "defaultKernelName": "csharp",
    "items": [
     {
      "aliases": [],
      "name": "csharp"
     }
    ]
   }
  }
 },
 "nbformat": 4,
 "nbformat_minor": 2
}
