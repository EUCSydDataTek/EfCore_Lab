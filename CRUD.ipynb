{
 "cells": [
  {
   "attachments": {},
   "cell_type": "markdown",
   "metadata": {},
   "source": [
    "# CRUD\n",
    "#### (Create,Read,Update,Delete)\n",
    "----"
   ]
  },
  {
   "attachments": {},
   "cell_type": "markdown",
   "metadata": {
    "dotnet_interactive": {
     "language": "csharp"
    },
    "polyglot_notebook": {
     "kernelName": "csharp"
    }
   },
   "source": [
    "## Start\n",
    "for at bruge denne notebook skal du have powershell core installeret.\n",
    "\n",
    "Winget:"
   ]
  },
  {
   "cell_type": "code",
   "execution_count": null,
   "metadata": {
    "dotnet_interactive": {
     "language": "pwsh"
    },
    "polyglot_notebook": {
     "kernelName": "pwsh"
    },
    "vscode": {
     "languageId": "polyglot-notebook"
    }
   },
   "outputs": [],
   "source": [
    "winget install Microsoft.PowerShell"
   ]
  },
  {
   "attachments": {},
   "cell_type": "markdown",
   "metadata": {
    "dotnet_interactive": {
     "language": "csharp"
    },
    "polyglot_notebook": {
     "kernelName": "csharp"
    }
   },
   "source": [
    "Kør koden nedenunder før du kører eksemplerne."
   ]
  },
  {
   "cell_type": "code",
   "execution_count": null,
   "metadata": {
    "dotnet_interactive": {
     "language": "csharp"
    },
    "polyglot_notebook": {
     "kernelName": "csharp"
    },
    "vscode": {
     "languageId": "polyglot-notebook"
    }
   },
   "outputs": [],
   "source": [
    "#!pwsh\n",
    "Write-Host \"Building Project\"\n",
    "dotnet build Efcore.sln | Out-File -FilePath BuildOutput.txt\n",
    "Write-Host \"Project build completed\"\n",
    "\n",
    "#!C#\n",
    "#r \"nuget: Bogus\"\n",
    "#r \"nuget: Microsoft.EntityFrameworkCore\"\n",
    "#r \"nuget: Microsoft.EntityFrameworkCore.SqlServer\"\n",
    "#r \"nuget: Microsoft.EntityFrameworkCore.Sqlite\"\n",
    "#r \"DataLayer\\bin\\Debug\\net7.0\\DataLayer.dll\"\n",
    "\n",
    "using Microsoft.EntityFrameworkCore;\n",
    "using DataLayer;\n",
    "\n",
    "DbContextOptionsBuilder<BlogDbContext> DbOptions = new();\n",
    "\n",
    "DbOptions.UseSqlite(\"Data Source=mydb.db;\");\n",
    "//DbOptions.UseSqlServer(\"<ConnectionString Here>\");\n",
    "\n",
    "using (var db = new BlogDbContext(DbOptions.Options))\n",
    "{\n",
    "    Console.WriteLine(\"Removing old database..\");\n",
    "    db.Database.EnsureDeleted();\n",
    "    Console.WriteLine(\"Creating new database..\");\n",
    "    db.Database.EnsureCreated();\n",
    "}\n",
    "\n",
    "Console.WriteLine(\"Seeding Database.\");\n",
    "var users = DbOptions.Options.CreateRandomUsers(10);\n",
    "var blogs = DbOptions.Options.CreateRandomBlogs(users);\n",
    "var posts = DbOptions.Options.CreateRandomPosts(10 * 2,blogs,users);\n",
    "Console.WriteLine(\"Done.\");\n",
    "\n",
    "// Enable Logging\n",
    "DbOptions\n",
    "    .EnableSensitiveDataLogging()\n",
    "    .LogTo(a => a.Display(),Microsoft.Extensions.Logging.LogLevel.Information);"
   ]
  },
  {
   "attachments": {},
   "cell_type": "markdown",
   "metadata": {
    "dotnet_interactive": {
     "language": "csharp"
    },
    "polyglot_notebook": {
     "kernelName": "csharp"
    }
   },
   "source": [
    "-----\n",
    "## Hent fra datbase\n",
    "Henter data fra databasen hvor teksten skal indeholde \"et\".\n",
    "\n",
    "Der der blibver konverteret til lowercase for at få ikke at søge case sensitiv."
   ]
  },
  {
   "cell_type": "code",
   "execution_count": null,
   "metadata": {
    "dotnet_interactive": {
     "language": "csharp"
    },
    "polyglot_notebook": {
     "kernelName": "csharp"
    },
    "vscode": {
     "languageId": "polyglot-notebook"
    }
   },
   "outputs": [],
   "source": [
    "using (var db = new BlogDbContext(DbOptions.Options))\n",
    "{\n",
    "    var Blogs = db.Blogs\n",
    "                    .Where(b => b.BlogName.ToLower().Contains(\"et\"))\n",
    "                    .ToList();\n",
    "                    \n",
    "    Blogs.Display();\n",
    "}"
   ]
  },
  {
   "attachments": {},
   "cell_type": "markdown",
   "metadata": {
    "dotnet_interactive": {
     "language": "csharp"
    },
    "polyglot_notebook": {
     "kernelName": "csharp"
    }
   },
   "source": [
    "Her gør vi det samme bare med at vi henter posts med et specifikt Blogid."
   ]
  },
  {
   "cell_type": "code",
   "execution_count": null,
   "metadata": {
    "dotnet_interactive": {
     "language": "csharp"
    },
    "polyglot_notebook": {
     "kernelName": "csharp"
    },
    "vscode": {
     "languageId": "polyglot-notebook"
    }
   },
   "outputs": [],
   "source": [
    "using (var db = new BlogDbContext(DbOptions.Options))\n",
    "{\n",
    "    var Blogs = db.Posts\n",
    "                    .Where(b => b.BlogId == 2)\n",
    "                    .ToList();\n",
    "                    \n",
    "    Blogs.Display();\n",
    "}"
   ]
  },
  {
   "attachments": {},
   "cell_type": "markdown",
   "metadata": {
    "dotnet_interactive": {
     "language": "csharp"
    },
    "polyglot_notebook": {
     "kernelName": "csharp"
    }
   },
   "source": [
    "### Data Transformering\n",
    "\n",
    "Her kan man hente data og tranformere til en anden klasse.\n",
    "\n",
    "> Observer at entity framework selv laver inner joins for at få data"
   ]
  },
  {
   "cell_type": "code",
   "execution_count": null,
   "metadata": {
    "dotnet_interactive": {
     "language": "csharp"
    },
    "polyglot_notebook": {
     "kernelName": "csharp"
    },
    "vscode": {
     "languageId": "polyglot-notebook"
    }
   },
   "outputs": [],
   "source": [
    "class BlogPost {\n",
    "    public string BlogName { get; set; }\n",
    "    public string UserName { get; set; }\n",
    "    public string PostTitle { get; set; }\n",
    "    public string PostDescription { get; set; }\n",
    "}\n",
    "\n",
    "using (var db = new BlogDbContext(DbOptions.Options))\n",
    "{\n",
    "    var Blogs = db.Posts\n",
    "                    .Where(p => p.BlogId == 1)\n",
    "                    .Select(p => new BlogPost {\n",
    "                        PostTitle = p.title,\n",
    "                        PostDescription = p.desctription,\n",
    "                        UserName = p.User.UserName,\n",
    "                        BlogName = p.Blog.BlogName\n",
    "                    }).ToList();\n",
    "                    \n",
    "    Blogs.Display();\n",
    "}"
   ]
  }
 ],
 "metadata": {
  "kernelspec": {
   "display_name": ".NET (C#)",
   "language": "C#",
   "name": ".net-csharp"
  },
  "polyglot_notebook": {
   "kernelInfo": {
    "defaultKernelName": "csharp",
    "items": [
     {
      "aliases": [],
      "name": "csharp"
     }
    ]
   }
  }
 },
 "nbformat": 4,
 "nbformat_minor": 2
}
