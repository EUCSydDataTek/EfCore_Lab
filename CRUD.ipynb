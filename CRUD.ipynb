{
 "cells": [
  {
   "attachments": {},
   "cell_type": "markdown",
   "metadata": {},
   "source": [
    "# CRUD\n",
    "#### (Create,Read,Update,Delete)\n",
    "\n",
    "### Inhold\n",
    "1. Start\n",
    "2. Hent Fra Database\n",
    "    - Simple Queries\n",
    "    - Data tranformation\n",
    "    - Eager loading\n",
    "\n",
    "\n",
    "----"
   ]
  },
  {
   "attachments": {},
   "cell_type": "markdown",
   "metadata": {
    "dotnet_interactive": {
     "language": "csharp"
    },
    "polyglot_notebook": {
     "kernelName": "csharp"
    }
   },
   "source": [
    "## 1. Start\n",
    "for at bruge denne notebook skal du have powershell core installeret.\n",
    "\n",
    "Winget:"
   ]
  },
  {
   "cell_type": "code",
   "execution_count": 18,
   "metadata": {
    "dotnet_interactive": {
     "language": "pwsh"
    },
    "polyglot_notebook": {
     "kernelName": "pwsh"
    },
    "vscode": {
     "languageId": "polyglot-notebook"
    }
   },
   "outputs": [],
   "source": [
    "# Out-file delen kan undværes hvis du copy paster den til din kommandopromt. da den spytter en masse ud.\n",
    "winget install Microsoft.PowerShell \n",
    "| Out-File -FilePath WingetOutput.txt"
   ]
  },
  {
   "attachments": {},
   "cell_type": "markdown",
   "metadata": {
    "dotnet_interactive": {
     "language": "csharp"
    },
    "polyglot_notebook": {
     "kernelName": "csharp"
    }
   },
   "source": [
    "Kør koden nedenunder før du kører eksemplerne."
   ]
  },
  {
   "cell_type": "code",
   "execution_count": null,
   "metadata": {
    "dotnet_interactive": {
     "language": "csharp"
    },
    "polyglot_notebook": {
     "kernelName": "csharp"
    },
    "vscode": {
     "languageId": "polyglot-notebook"
    }
   },
   "outputs": [],
   "source": [
    "\n",
    "#!pwsh \n",
    "# Powershell kode\n",
    "Write-Host \"Building Project\"\n",
    "dotnet build Efcore.sln | Out-File -FilePath BuildOutput.txt\n",
    "Write-Host \"Project build completed\"\n",
    "\n",
    "#!C#\n",
    "// Nuget Import \n",
    "#r \"nuget: Bogus\"\n",
    "#r \"nuget: Microsoft.EntityFrameworkCore\"\n",
    "#r \"nuget: Microsoft.EntityFrameworkCore.SqlServer\"\n",
    "#r \"nuget: Microsoft.EntityFrameworkCore.Sqlite\"\n",
    "#r \"DataLayer\\bin\\Debug\\net7.0\\DataLayer.dll\"\n",
    "\n",
    "// Usings\n",
    "using Microsoft.EntityFrameworkCore;\n",
    "using DataLayer;\n",
    "\n",
    "// Dbcontext instillinger.\n",
    "DbContextOptionsBuilder<BlogDbContext> DbOptions = new();\n",
    "DbOptions.UseSqlite(\"Data Source=mydb.db;\");\n",
    "//DbOptions.UseSqlServer(\"<ConnectionString Here>\"); // Du kan bruge en normal database hvis du vil.\n",
    "\n",
    "// Seeding af tabeller\n",
    "using (var db = new BlogDbContext(DbOptions.Options))\n",
    "{\n",
    "    Console.WriteLine(\"Removing old database..\");\n",
    "    db.Database.EnsureDeleted();\n",
    "    Console.WriteLine(\"Creating new database..\");\n",
    "    db.Database.EnsureCreated();\n",
    "}\n",
    "\n",
    "// seeding med instillinger\n",
    "// Alt der bliver oprettet er tilfældige navne og data.\n",
    "Console.WriteLine(\"Seeding Database.\");\n",
    "var users = DbOptions.Options.CreateRandomUsers(10); // der vil blive oprettet 10 brugere\n",
    "var blogs = DbOptions.Options.CreateRandomBlogs(users); // hver bruger ejer en blog\n",
    "var posts = DbOptions.Options.CreateRandomPosts(40,blogs,users); // 40 post over alle blogs og brugere\n",
    "Console.WriteLine(\"Done.\");\n",
    "\n",
    "// Enable Sensitive Data Logging\n",
    "DbOptions\n",
    "    .EnableSensitiveDataLogging()\n",
    "    .LogTo(a => a.Display(),Microsoft.Extensions.Logging.LogLevel.Information);"
   ]
  },
  {
   "attachments": {},
   "cell_type": "markdown",
   "metadata": {
    "dotnet_interactive": {
     "language": "csharp"
    },
    "polyglot_notebook": {
     "kernelName": "csharp"
    }
   },
   "source": [
    "-----\n",
    "# 2. Hent fra datbase\n",
    "## Simple queries\n",
    "Henter data fra databasen hvor teksten skal indeholde \"et\".\n",
    "\n",
    "Der der blibver konverteret til lowercase for at få ikke at søge case sensitiv.\n",
    "\n",
    "> Note. Det er meningen at Posts og owner er Null.\n",
    "> Vi kommer til det Senere."
   ]
  },
  {
   "cell_type": "code",
   "execution_count": null,
   "metadata": {
    "dotnet_interactive": {
     "language": "csharp"
    },
    "polyglot_notebook": {
     "kernelName": "csharp"
    },
    "vscode": {
     "languageId": "polyglot-notebook"
    }
   },
   "outputs": [],
   "source": [
    "using (var db = new BlogDbContext(DbOptions.Options))\n",
    "{\n",
    "    var Blogs = db.Blogs\n",
    "                    .Where(b => b.BlogName.ToLower().Contains(\"et\"))\n",
    "                    .ToList();\n",
    "                    \n",
    "    Blogs.Display();\n",
    "}"
   ]
  },
  {
   "attachments": {},
   "cell_type": "markdown",
   "metadata": {
    "dotnet_interactive": {
     "language": "csharp"
    },
    "polyglot_notebook": {
     "kernelName": "csharp"
    }
   },
   "source": [
    "Her gør vi det samme bare med at vi henter posts med et specifikt Blogid."
   ]
  },
  {
   "cell_type": "code",
   "execution_count": null,
   "metadata": {
    "dotnet_interactive": {
     "language": "csharp"
    },
    "polyglot_notebook": {
     "kernelName": "csharp"
    },
    "vscode": {
     "languageId": "polyglot-notebook"
    }
   },
   "outputs": [],
   "source": [
    "using (var db = new BlogDbContext(DbOptions.Options))\n",
    "{\n",
    "    var Blogs = db.Posts\n",
    "                    .Where(b => b.BlogId == 2)\n",
    "                    .ToList();\n",
    "                    \n",
    "    Blogs.Display();\n",
    "}"
   ]
  },
  {
   "attachments": {},
   "cell_type": "markdown",
   "metadata": {
    "dotnet_interactive": {
     "language": "csharp"
    },
    "polyglot_notebook": {
     "kernelName": "csharp"
    }
   },
   "source": [
    "## Data Transformering med queries\n",
    "\n",
    "Man hente data og tranformere til en anden klasse med ``Select()`` og så vil entity framework selv lave de nødvendige sql kommandoer.\n",
    "\n",
    "> Observer at entity framework selv laver inner joins for at få data"
   ]
  },
  {
   "cell_type": "code",
   "execution_count": null,
   "metadata": {
    "dotnet_interactive": {
     "language": "csharp"
    },
    "polyglot_notebook": {
     "kernelName": "csharp"
    },
    "vscode": {
     "languageId": "polyglot-notebook"
    }
   },
   "outputs": [],
   "source": [
    "class BlogPost {\n",
    "    public string BlogName { get; set; }\n",
    "    public string UserName { get; set; }\n",
    "    public string PostTitle { get; set; }\n",
    "    public string PostDescription { get; set; }\n",
    "}\n",
    "\n",
    "using (var db = new BlogDbContext(DbOptions.Options))\n",
    "{\n",
    "    var Blogs = db.Posts\n",
    "                    .Where(p => p.BlogId == 1)\n",
    "                    .Select(p => new BlogPost {\n",
    "                        PostTitle = p.title,\n",
    "                        PostDescription = p.desctription,\n",
    "                        UserName = p.User.UserName,\n",
    "                        BlogName = p.Blog.BlogName\n",
    "                    }).ToList();\n",
    "                    \n",
    "    Blogs.Display();\n",
    "}"
   ]
  },
  {
   "attachments": {},
   "cell_type": "markdown",
   "metadata": {
    "dotnet_interactive": {
     "language": "csharp"
    },
    "polyglot_notebook": {
     "kernelName": "csharp"
    }
   },
   "source": [
    "## Eager loading\n",
    "\n",
    "I den første demo var User og Blog Null.\n",
    "\n",
    "Det er fordi Entityframework kun henter fra den første entitet.\n"
   ]
  },
  {
   "cell_type": "code",
   "execution_count": null,
   "metadata": {
    "dotnet_interactive": {
     "language": "csharp"
    },
    "polyglot_notebook": {
     "kernelName": "csharp"
    },
    "vscode": {
     "languageId": "polyglot-notebook"
    }
   },
   "outputs": [],
   "source": [
    "using (var db = new BlogDbContext(DbOptions.Options))\n",
    "{\n",
    "    var BlogPost = db.Posts\n",
    "                    .Where(p => p.BlogId == 1)\n",
    "                    .FirstOrDefault();\n",
    "                    \n",
    "    $\"Title: {BlogPost?.title}\".Display();\n",
    "    $\"Desctription: {BlogPost?.desctription}\".Display();\n",
    "    $\"User: {BlogPost.User?.UserName}\".Display();\n",
    "    $\"BlogName: {BlogPost.Blog?.BlogName}\".Display();\n",
    "}"
   ]
  },
  {
   "attachments": {},
   "cell_type": "markdown",
   "metadata": {
    "dotnet_interactive": {
     "language": "csharp"
    },
    "polyglot_notebook": {
     "kernelName": "csharp"
    }
   },
   "source": [
    "Det kan løses ved at bruge Eager loading som vil tilføje entiteneten til query så den kommer med fra databasen ved at bruge ``Include()`` metoden."
   ]
  },
  {
   "cell_type": "code",
   "execution_count": null,
   "metadata": {
    "dotnet_interactive": {
     "language": "csharp"
    },
    "polyglot_notebook": {
     "kernelName": "csharp"
    },
    "vscode": {
     "languageId": "polyglot-notebook"
    }
   },
   "outputs": [],
   "source": [
    "using (var db = new BlogDbContext(DbOptions.Options))\n",
    "{\n",
    "    var BlogPost = db.Posts\n",
    "                    .Include(p => p.Blog) // Inkluder Blog\n",
    "                    .Include(p => p.User) // Inkluder Bruger\n",
    "                    .Where(p => p.BlogId == 1)\n",
    "                    .FirstOrDefault();\n",
    "                    \n",
    "    $\"Title: {BlogPost?.title}\".Display();\n",
    "    $\"Desctription: {BlogPost?.desctription}\".Display();\n",
    "    $\"User: {BlogPost.User?.UserName}\".Display();\n",
    "    $\"BlogName: {BlogPost.Blog?.BlogName}\".Display();\n",
    "}"
   ]
  },
  {
   "attachments": {},
   "cell_type": "markdown",
   "metadata": {
    "dotnet_interactive": {
     "language": "csharp"
    },
    "polyglot_notebook": {
     "kernelName": "csharp"
    }
   },
   "source": [
    "----\n"
   ]
  }
 ],
 "metadata": {
  "kernelspec": {
   "display_name": ".NET (C#)",
   "language": "C#",
   "name": ".net-csharp"
  },
  "polyglot_notebook": {
   "kernelInfo": {
    "defaultKernelName": "csharp",
    "items": [
     {
      "aliases": [],
      "name": "csharp"
     }
    ]
   }
  }
 },
 "nbformat": 4,
 "nbformat_minor": 2
}
